{
 "cells": [
  {
   "cell_type": "code",
   "execution_count": 3,
   "metadata": {},
   "outputs": [
    {
     "name": "stderr",
     "output_type": "stream",
     "text": [
      "/home/sweksha/coursera/local/lib/python2.7/site-packages/sklearn/cross_validation.py:41: DeprecationWarning: This module was deprecated in version 0.18 in favor of the model_selection module into which all the refactored classes and functions are moved. Also note that the interface of the new CV iterators are different from that of this module. This module will be removed in 0.20.\n",
      "  \"This module will be removed in 0.20.\", DeprecationWarning)\n"
     ]
    }
   ],
   "source": [
    "import numpy as np\n",
    "import pandas as pd\n",
    "import csv\n",
    "from pandas import *\n",
    "from sklearn import cross_validation\n",
    "from sklearn.linear_model import LogisticRegression\n",
    "from sklearn.metrics import classification_report, confusion_matrix, accuracy_score\n"
   ]
  },
  {
   "cell_type": "code",
   "execution_count": 15,
   "metadata": {},
   "outputs": [],
   "source": [
    "def load_file_train():\n",
    "    train_df = pd.read_csv(\"./train.csv\")\n",
    "    cols = [\"Pclass\",\"Sex\",\"Age\"]\n",
    "    #change male to 1 and female to 0\n",
    "    train_df[\"Sex\"] = train_df[\"Sex\"].apply(lambda sex:1 if sex==\"male\" else 0)\n",
    "    #handle missing values of age\n",
    "    train_df[\"Age\"] = train_df[\"Age\"].fillna(train_df[\"Age\"].mean())\n",
    "    train_df[\"Fare\"] = train_df[\"Fare\"].fillna(train_df[\"Fare\"].mean())\n",
    "    survived = train_df[\"Survived\"].values\n",
    "    data = train_df[cols].values\n",
    "    return survived,data"
   ]
  },
  {
   "cell_type": "code",
   "execution_count": 16,
   "metadata": {},
   "outputs": [],
   "source": [
    "def load_file_test():\n",
    "    train_df = pd.read_csv(\"./test.csv\")\n",
    "    cols = [\"Pclass\",\"Sex\",\"Age\"]\n",
    "    #change male to 1 and female to 0\n",
    "    train_df[\"Sex\"] = train_df[\"Sex\"].apply(lambda sex:1 if sex==\"male\" else 0)\n",
    "    #handle missing values of age\n",
    "    train_df[\"Age\"] = train_df[\"Age\"].fillna(train_df[\"Age\"].mean())\n",
    "    train_df[\"Fare\"] = train_df[\"Fare\"].fillna(train_df[\"Fare\"].mean())\n",
    "    data = train_df[cols].values\n",
    "    passId = train_df[\"PassengerId\"].values\n",
    "    return data,passId"
   ]
  },
  {
   "cell_type": "code",
   "execution_count": 17,
   "metadata": {},
   "outputs": [],
   "source": [
    "def learn_model(survived,data_train,data_test,passId):\n",
    "    #data_train, data_test, target_train, target_test = cross_validation.train_test_split(data, survived,\n",
    "   #                                                                                      test_size=0.4, random_state=43)\n",
    "    model = LogisticRegression()\n",
    "    model.fit(data_train,survived)\n",
    "    predicted = model.predict(data_test)\n",
    "    #evaluate_model(predicted,target_test)\n",
    "    output = pd.DataFrame(columns=['PassengerId', 'Survived'])\n",
    "    output['PassengerId'] = passId\n",
    "    output['Survived'] = predicted.astype(int)\n",
    "    output.to_csv('logisticRegressionSubmit.csv', index=False)\n",
    "    #write.csv(my_logit, file = \"logisticRegressionSubmit.csv\")\n"
   ]
  },
  {
   "cell_type": "code",
   "execution_count": 18,
   "metadata": {},
   "outputs": [],
   "source": [
    "def main():\n",
    "    survived, data_train = load_file_train()\n",
    "    data_test,passId = load_file_test()\n",
    "    learn_model(survived,data_train,data_test,passId)\n"
   ]
  },
  {
   "cell_type": "code",
   "execution_count": 19,
   "metadata": {},
   "outputs": [],
   "source": [
    "main()\n"
   ]
  },
  {
   "cell_type": "code",
   "execution_count": null,
   "metadata": {},
   "outputs": [],
   "source": []
  }
 ],
 "metadata": {
  "kernelspec": {
   "display_name": "Python 2",
   "language": "python",
   "name": "python2"
  },
  "language_info": {
   "codemirror_mode": {
    "name": "ipython",
    "version": 2
   },
   "file_extension": ".py",
   "mimetype": "text/x-python",
   "name": "python",
   "nbconvert_exporter": "python",
   "pygments_lexer": "ipython2",
   "version": "2.7.12"
  }
 },
 "nbformat": 4,
 "nbformat_minor": 2
}
